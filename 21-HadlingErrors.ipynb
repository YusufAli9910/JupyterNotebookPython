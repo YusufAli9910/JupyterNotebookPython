{
 "cells": [
  {
   "cell_type": "code",
   "execution_count": 1,
   "id": "1b5c30ea-b7d4-482e-8a94-83a45d9c0438",
   "metadata": {},
   "outputs": [
    {
     "name": "stdin",
     "output_type": "stream",
     "text": [
      "enter age: 35\n"
     ]
    }
   ],
   "source": [
    "age = input(\"enter age:\")"
   ]
  },
  {
   "cell_type": "code",
   "execution_count": 2,
   "id": "d637b5e0-d330-40ac-8a6c-6b2302777a1f",
   "metadata": {},
   "outputs": [
    {
     "data": {
      "text/plain": [
       "'35'"
      ]
     },
     "execution_count": 2,
     "metadata": {},
     "output_type": "execute_result"
    }
   ],
   "source": [
    "age"
   ]
  },
  {
   "cell_type": "code",
   "execution_count": 3,
   "id": "d1d4a4d0-33b3-4c3f-919a-73a1d46740a2",
   "metadata": {},
   "outputs": [
    {
     "data": {
      "text/plain": [
       "70"
      ]
     },
     "execution_count": 3,
     "metadata": {},
     "output_type": "execute_result"
    }
   ],
   "source": [
    "int(age) * 2"
   ]
  },
  {
   "cell_type": "code",
   "execution_count": 4,
   "id": "7f0203fd-894a-4228-8c15-c88fefd9ce91",
   "metadata": {},
   "outputs": [],
   "source": [
    "#### try - except"
   ]
  },
  {
   "cell_type": "code",
   "execution_count": 3,
   "id": "21bf1023-43c8-473d-885c-b4ae049e6e7d",
   "metadata": {},
   "outputs": [
    {
     "name": "stdin",
     "output_type": "stream",
     "text": [
      "enter age: 11\n"
     ]
    },
    {
     "name": "stdout",
     "output_type": "stream",
     "text": [
      "22\n",
      "finally\n"
     ]
    }
   ],
   "source": [
    "# try blogu inice hata alabilecek herseyi yaziyoruz\n",
    "while True:\n",
    "    try:\n",
    "        myAge = int(input(\"enter age:\"))\n",
    "        print(myAge * 2)\n",
    "        break\n",
    "\n",
    "    except: # except ise Eğer hata çıkarsa burası çalışır\n",
    "        print(\"enter your name!!!\")\n",
    "    else:\n",
    "        print(\"else executed\")\n",
    "        # break buradada olabilir\n",
    "        \n",
    "    finally:  # finally herzaman calisir ne olursa olsun\n",
    "        print(\"finally\")"
   ]
  },
  {
   "cell_type": "code",
   "execution_count": null,
   "id": "6cd7617d-7d93-4a26-a602-1d9472fd43cf",
   "metadata": {},
   "outputs": [],
   "source": []
  }
 ],
 "metadata": {
  "kernelspec": {
   "display_name": "Python [conda env:anaconda3]",
   "language": "python",
   "name": "conda-env-anaconda3-py"
  },
  "language_info": {
   "codemirror_mode": {
    "name": "ipython",
    "version": 3
   },
   "file_extension": ".py",
   "mimetype": "text/x-python",
   "name": "python",
   "nbconvert_exporter": "python",
   "pygments_lexer": "ipython3",
   "version": "3.13.5"
  }
 },
 "nbformat": 4,
 "nbformat_minor": 5
}
