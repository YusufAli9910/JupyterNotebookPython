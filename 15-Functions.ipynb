{
 "cells": [
  {
   "cell_type": "code",
   "execution_count": 1,
   "id": "631fd7b6-9001-479d-acc9-aa0db704a158",
   "metadata": {},
   "outputs": [],
   "source": [
    "# input"
   ]
  },
  {
   "cell_type": "code",
   "execution_count": 11,
   "id": "ce967ebf-7c5e-4da3-bd94-e3211e42435c",
   "metadata": {},
   "outputs": [],
   "source": [
    "def nammee(name):\n",
    "    print(\"hello\")\n",
    "    print(name)\n"
   ]
  },
  {
   "cell_type": "code",
   "execution_count": 12,
   "id": "215f21db-39bd-4cd1-ab41-d9ab06c084a0",
   "metadata": {},
   "outputs": [
    {
     "name": "stdout",
     "output_type": "stream",
     "text": [
      "hello\n",
      "yusuf\n"
     ]
    }
   ],
   "source": [
    "nammee(\"yusuf\")"
   ]
  },
  {
   "cell_type": "code",
   "execution_count": 13,
   "id": "6eafe7a9-5ff0-46f2-95b1-f8a2e44cedcb",
   "metadata": {},
   "outputs": [
    {
     "name": "stdout",
     "output_type": "stream",
     "text": [
      "<function nammee at 0x0000018C5BED2FC0>\n"
     ]
    }
   ],
   "source": [
    "print(nammee)"
   ]
  },
  {
   "cell_type": "code",
   "execution_count": 14,
   "id": "af1bc142-02c2-4228-9aa5-a2691bce1f13",
   "metadata": {},
   "outputs": [],
   "source": [
    "# return"
   ]
  },
  {
   "cell_type": "code",
   "execution_count": 22,
   "id": "3f382d00-3578-4d8d-843c-5fda7e3bb3d3",
   "metadata": {},
   "outputs": [],
   "source": [
    "def numOne(num1 , num2 , num3):\n",
    "     print(num1 + num2 + num3)\n"
   ]
  },
  {
   "cell_type": "code",
   "execution_count": 23,
   "id": "ec19c0ee-1d50-474f-bc31-cbc904f41d04",
   "metadata": {},
   "outputs": [
    {
     "name": "stdout",
     "output_type": "stream",
     "text": [
      "60\n"
     ]
    }
   ],
   "source": [
    "numOne(10,20,30)"
   ]
  },
  {
   "cell_type": "code",
   "execution_count": 24,
   "id": "17d97dd7-3557-436a-a6eb-3061b5394775",
   "metadata": {},
   "outputs": [
    {
     "data": {
      "text/plain": [
       "<function __main__.numOne(num1, num2, num3)>"
      ]
     },
     "execution_count": 24,
     "metadata": {},
     "output_type": "execute_result"
    }
   ],
   "source": [
    "numOne"
   ]
  },
  {
   "cell_type": "code",
   "execution_count": 26,
   "id": "2aa41d9d-3958-447b-b86b-fb72f330839d",
   "metadata": {},
   "outputs": [
    {
     "data": {
      "text/plain": [
       "function"
      ]
     },
     "execution_count": 26,
     "metadata": {},
     "output_type": "execute_result"
    }
   ],
   "source": [
    "type(numOne)"
   ]
  },
  {
   "cell_type": "code",
   "execution_count": 27,
   "id": "eeab7715-b9ec-42e4-9b60-aca7f12701b0",
   "metadata": {},
   "outputs": [
    {
     "name": "stdout",
     "output_type": "stream",
     "text": [
      "60\n"
     ]
    }
   ],
   "source": [
    "y = numOne(10,20,30)"
   ]
  },
  {
   "cell_type": "code",
   "execution_count": 28,
   "id": "24b25d06-63ad-4017-b3ec-d87fc5528d0b",
   "metadata": {},
   "outputs": [
    {
     "data": {
      "text/plain": [
       "NoneType"
      ]
     },
     "execution_count": 28,
     "metadata": {},
     "output_type": "execute_result"
    }
   ],
   "source": [
    "type(y)"
   ]
  },
  {
   "cell_type": "code",
   "execution_count": 29,
   "id": "f4a4be5a-eb57-4a18-96cd-398438169fee",
   "metadata": {},
   "outputs": [],
   "source": [
    "def numTwo(num1 , num2 , num3):\n",
    "     return(num1 + num2 + num3)"
   ]
  },
  {
   "cell_type": "code",
   "execution_count": 34,
   "id": "08fc9eaa-c30a-4596-a3c1-74b49a21dd23",
   "metadata": {},
   "outputs": [],
   "source": [
    "x = numTwo(10,20,30)"
   ]
  },
  {
   "cell_type": "code",
   "execution_count": 35,
   "id": "1dc3b855-38a7-461e-aa25-a9a9e43efb7c",
   "metadata": {},
   "outputs": [
    {
     "data": {
      "text/plain": [
       "60"
      ]
     },
     "execution_count": 35,
     "metadata": {},
     "output_type": "execute_result"
    }
   ],
   "source": [
    "x"
   ]
  },
  {
   "cell_type": "code",
   "execution_count": 46,
   "id": "2cffdaed-6034-4523-9b9e-490ef1296b12",
   "metadata": {},
   "outputs": [],
   "source": [
    "def number(num1):\n",
    "    result = num1\n",
    "    print(result)\n",
    "    return result"
   ]
  },
  {
   "cell_type": "code",
   "execution_count": 47,
   "id": "24ed8bf9-4ddc-4f73-8818-935a37a16c9e",
   "metadata": {},
   "outputs": [
    {
     "name": "stdout",
     "output_type": "stream",
     "text": [
      "22\n"
     ]
    }
   ],
   "source": [
    "xy = number(22)"
   ]
  },
  {
   "cell_type": "code",
   "execution_count": 48,
   "id": "3a932893-1287-4b8c-b07f-cb3be5cce817",
   "metadata": {},
   "outputs": [
    {
     "data": {
      "text/plain": [
       "22"
      ]
     },
     "execution_count": 48,
     "metadata": {},
     "output_type": "execute_result"
    }
   ],
   "source": [
    "xy"
   ]
  },
  {
   "cell_type": "code",
   "execution_count": 51,
   "id": "a39a2fc2-6d40-4fa0-97ec-ab5650b9946c",
   "metadata": {},
   "outputs": [],
   "source": [
    "def worl(s):\n",
    "    if s[0] == \"a\":\n",
    "        print(\"dogru\")\n",
    "    else:\n",
    "        print(\"yanlis\")"
   ]
  },
  {
   "cell_type": "code",
   "execution_count": 53,
   "id": "723adf21-50d7-4ad0-9995-954bd0404616",
   "metadata": {},
   "outputs": [
    {
     "name": "stdout",
     "output_type": "stream",
     "text": [
      "yanlis\n"
     ]
    }
   ],
   "source": [
    "worl(\"yli\")"
   ]
  },
  {
   "cell_type": "code",
   "execution_count": 56,
   "id": "281bc4e4-4694-461c-9d81-efb23b3011e8",
   "metadata": {},
   "outputs": [],
   "source": [
    "# args (sayisi belli olmayan arguman) ,  kwargs"
   ]
  },
  {
   "cell_type": "code",
   "execution_count": 57,
   "id": "4cffb1f7-528a-427a-90f9-a1e7764b32e6",
   "metadata": {},
   "outputs": [],
   "source": [
    "# sum ----> icindeki herseyi toplar"
   ]
  },
  {
   "cell_type": "code",
   "execution_count": 77,
   "id": "92f1b0a1-ad3e-4a12-b929-66b37659c387",
   "metadata": {},
   "outputs": [],
   "source": [
    "def agrrr(*args):\n",
    "    return sum(args)"
   ]
  },
  {
   "cell_type": "code",
   "execution_count": 84,
   "id": "439aba53-8a58-430a-8485-d1f14ea754dd",
   "metadata": {},
   "outputs": [],
   "source": [
    "x = agrrr(20,30,50,99,60,11)"
   ]
  },
  {
   "cell_type": "code",
   "execution_count": 85,
   "id": "4e919ae3-04d0-455f-95d5-ccc87199c12b",
   "metadata": {},
   "outputs": [
    {
     "data": {
      "text/plain": [
       "270"
      ]
     },
     "execution_count": 85,
     "metadata": {},
     "output_type": "execute_result"
    }
   ],
   "source": [
    "x"
   ]
  },
  {
   "cell_type": "code",
   "execution_count": 62,
   "id": "48e7b4c5-d184-44e8-ae41-ae18eac801b9",
   "metadata": {},
   "outputs": [],
   "source": [
    "def agrr(*args):\n",
    "    print(args)"
   ]
  },
  {
   "cell_type": "code",
   "execution_count": 64,
   "id": "9486fb9f-2a1f-49a6-ab94-7ce905e85553",
   "metadata": {},
   "outputs": [
    {
     "name": "stdout",
     "output_type": "stream",
     "text": [
      "(100, 50, 55, 30, 99)\n"
     ]
    }
   ],
   "source": [
    "agrr(100,50,55,30,99)     # Tuple icine alir"
   ]
  },
  {
   "cell_type": "code",
   "execution_count": 65,
   "id": "3f27c6d6-0589-4587-964c-8b8e259097dd",
   "metadata": {},
   "outputs": [],
   "source": [
    "# kwargs"
   ]
  },
  {
   "cell_type": "code",
   "execution_count": 66,
   "id": "de1c3330-bde0-46ca-b3ab-cdd91b89cb74",
   "metadata": {},
   "outputs": [],
   "source": [
    "def kex(**kwargs):\n",
    "    print(kwargs)"
   ]
  },
  {
   "cell_type": "code",
   "execution_count": 89,
   "id": "091fcc8b-7251-4194-86b1-8da8674d2662",
   "metadata": {},
   "outputs": [
    {
     "name": "stdout",
     "output_type": "stream",
     "text": [
      "{'apple': 100, 'mango': 200, 'banana': 300}\n"
     ]
    }
   ],
   "source": [
    "kex(apple = 100, mango = 200, banana = 300)   # dictionary olusturur"
   ]
  },
  {
   "cell_type": "code",
   "execution_count": 90,
   "id": "76402700-8c4a-41f8-a283-e06a95da77c3",
   "metadata": {},
   "outputs": [],
   "source": [
    "def kkex(**kwargs):\n",
    "    if \"apple\" in kwargs:\n",
    "        print(\"yeap\")\n",
    "    else:\n",
    "        print(\"nope\")"
   ]
  },
  {
   "cell_type": "code",
   "execution_count": 95,
   "id": "42f35f21-8599-43e9-bfba-5cb5ec6e3a15",
   "metadata": {},
   "outputs": [
    {
     "name": "stdout",
     "output_type": "stream",
     "text": [
      "yeap\n"
     ]
    }
   ],
   "source": [
    "kkex(apple = 100)"
   ]
  },
  {
   "cell_type": "code",
   "execution_count": 96,
   "id": "a2372193-e9d4-4a3c-8a59-ca18520ae41f",
   "metadata": {},
   "outputs": [
    {
     "name": "stdout",
     "output_type": "stream",
     "text": [
      "nope\n"
     ]
    }
   ],
   "source": [
    "kkex(king = 50)"
   ]
  },
  {
   "cell_type": "code",
   "execution_count": null,
   "id": "8e61b8b8-a243-4583-b832-54199cffad78",
   "metadata": {},
   "outputs": [],
   "source": []
  }
 ],
 "metadata": {
  "kernelspec": {
   "display_name": "Python [conda env:anaconda3]",
   "language": "python",
   "name": "conda-env-anaconda3-py"
  },
  "language_info": {
   "codemirror_mode": {
    "name": "ipython",
    "version": 3
   },
   "file_extension": ".py",
   "mimetype": "text/x-python",
   "name": "python",
   "nbconvert_exporter": "python",
   "pygments_lexer": "ipython3",
   "version": "3.13.5"
  }
 },
 "nbformat": 4,
 "nbformat_minor": 5
}
