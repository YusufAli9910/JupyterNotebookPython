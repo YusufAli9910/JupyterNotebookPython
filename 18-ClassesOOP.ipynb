{
 "cells": [
  {
   "cell_type": "code",
   "execution_count": 30,
   "id": "59d3ce8f-93c8-427f-aedb-be34ded0940c",
   "metadata": {},
   "outputs": [],
   "source": [
    "class Person():\n",
    "    name = \"\"\n",
    "    age = 0\n",
    "    gender = \"\"\n",
    "    job = \"\"\n",
    "    # usttekileri yazmasak bile python anlar\n",
    "    \n",
    "\n",
    "    # initializer method ---- ilk olusturmak ve degeri atamak\n",
    "    def __init__(self,name,age,gender):\n",
    "        self.name = name\n",
    "        self.age = age\n",
    "        self.gender = gender\n",
    "    # method\n",
    "    def printName(self):\n",
    "        print(self.name)\n",
    "        "
   ]
  },
  {
   "cell_type": "code",
   "execution_count": 22,
   "id": "c2b3c95e-ec28-4f86-b4d8-d75c99b00cde",
   "metadata": {},
   "outputs": [],
   "source": [
    "ali = Person(\"ali\",22,\"men\")"
   ]
  },
  {
   "cell_type": "code",
   "execution_count": 23,
   "id": "22ddc042-d343-4bde-8b13-ba86c3f15e18",
   "metadata": {},
   "outputs": [
    {
     "data": {
      "text/plain": [
       "22"
      ]
     },
     "execution_count": 23,
     "metadata": {},
     "output_type": "execute_result"
    }
   ],
   "source": [
    "ali.age"
   ]
  },
  {
   "cell_type": "code",
   "execution_count": 24,
   "id": "e94a2ee5-0d2d-4d9b-bd0a-b8e1b1274d91",
   "metadata": {},
   "outputs": [
    {
     "data": {
      "text/plain": [
       "'men'"
      ]
     },
     "execution_count": 24,
     "metadata": {},
     "output_type": "execute_result"
    }
   ],
   "source": [
    "ali.gender"
   ]
  },
  {
   "cell_type": "code",
   "execution_count": 25,
   "id": "33370c82-fadb-49f4-8c16-d9a5f038793c",
   "metadata": {},
   "outputs": [
    {
     "data": {
      "text/plain": [
       "''"
      ]
     },
     "execution_count": 25,
     "metadata": {},
     "output_type": "execute_result"
    }
   ],
   "source": [
    "ali.job"
   ]
  },
  {
   "cell_type": "code",
   "execution_count": 26,
   "id": "12a9952a-881f-4b8b-a4aa-c11db0118ccc",
   "metadata": {},
   "outputs": [],
   "source": [
    "ali.job = \"CEO\""
   ]
  },
  {
   "cell_type": "code",
   "execution_count": 20,
   "id": "8283b6ae-1745-4675-ab45-d690e72c55f1",
   "metadata": {},
   "outputs": [
    {
     "data": {
      "text/plain": [
       "'CEO'"
      ]
     },
     "execution_count": 20,
     "metadata": {},
     "output_type": "execute_result"
    }
   ],
   "source": [
    "ali.job"
   ]
  },
  {
   "cell_type": "code",
   "execution_count": 28,
   "id": "10ba21a9-b4a1-40c5-9676-f5cb991b65bf",
   "metadata": {},
   "outputs": [
    {
     "name": "stdout",
     "output_type": "stream",
     "text": [
      "ali\n"
     ]
    }
   ],
   "source": [
    "ali.printName()"
   ]
  },
  {
   "cell_type": "code",
   "execution_count": 31,
   "id": "fdd48094-9003-44ac-a991-8a8c843203d6",
   "metadata": {},
   "outputs": [],
   "source": [
    "class Dog():\n",
    "\n",
    "    year = 7\n",
    "\n",
    "    def __init__(self,age):\n",
    "        self.age = age\n",
    "\n",
    "    def humanAge(self):\n",
    "        return self.age * self.year  # self.year = Dog.year"
   ]
  },
  {
   "cell_type": "code",
   "execution_count": 33,
   "id": "277815ad-4c52-4bce-99b6-6758ebbe8b1b",
   "metadata": {},
   "outputs": [],
   "source": [
    "myDog = Dog(3)"
   ]
  },
  {
   "cell_type": "code",
   "execution_count": 35,
   "id": "3f556e94-f088-45cb-b08f-960b966ec7a5",
   "metadata": {},
   "outputs": [
    {
     "data": {
      "text/plain": [
       "21"
      ]
     },
     "execution_count": 35,
     "metadata": {},
     "output_type": "execute_result"
    }
   ],
   "source": [
    "myDog.humanAge()"
   ]
  },
  {
   "cell_type": "code",
   "execution_count": 36,
   "id": "89099170-120b-4a0f-8978-ad9fd06eb149",
   "metadata": {},
   "outputs": [
    {
     "data": {
      "text/plain": [
       "3"
      ]
     },
     "execution_count": 36,
     "metadata": {},
     "output_type": "execute_result"
    }
   ],
   "source": [
    "myDog.age"
   ]
  },
  {
   "cell_type": "code",
   "execution_count": null,
   "id": "44c10ac5-9076-4d6f-a9a8-807f8fcbddd2",
   "metadata": {},
   "outputs": [],
   "source": []
  },
  {
   "cell_type": "code",
   "execution_count": 57,
   "id": "fff8e17e-5b18-4063-bba1-4dfc625bd580",
   "metadata": {},
   "outputs": [],
   "source": [
    "class Dog():\n",
    "\n",
    "    year = 7\n",
    "\n",
    "    def __init__(self,age=5):\n",
    "        self.age = age\n",
    "        self.HumanAgeDog = age * Dog.year \n",
    "        print(\"dog age:\",self.age)\n",
    "        "
   ]
  },
  {
   "cell_type": "code",
   "execution_count": 63,
   "id": "e4165b30-3e7b-4fc1-bbe4-fc74af156939",
   "metadata": {},
   "outputs": [
    {
     "name": "stdout",
     "output_type": "stream",
     "text": [
      "dog age: 5\n"
     ]
    }
   ],
   "source": [
    "dogg = Dog(5)"
   ]
  },
  {
   "cell_type": "code",
   "execution_count": 64,
   "id": "4deda911-2ff3-44fd-b5f4-97b811600aed",
   "metadata": {},
   "outputs": [
    {
     "data": {
      "text/plain": [
       "5"
      ]
     },
     "execution_count": 64,
     "metadata": {},
     "output_type": "execute_result"
    }
   ],
   "source": [
    "dogg.age"
   ]
  },
  {
   "cell_type": "code",
   "execution_count": 65,
   "id": "501fe236-ff5c-46cf-9138-02833c387650",
   "metadata": {},
   "outputs": [
    {
     "data": {
      "text/plain": [
       "35"
      ]
     },
     "execution_count": 65,
     "metadata": {},
     "output_type": "execute_result"
    }
   ],
   "source": [
    "dogg.HumanAgeDog"
   ]
  },
  {
   "cell_type": "code",
   "execution_count": 66,
   "id": "206bbf2b-77c8-4b95-b1ec-da6416903f6b",
   "metadata": {},
   "outputs": [],
   "source": [
    "dogg.age = 10"
   ]
  },
  {
   "cell_type": "code",
   "execution_count": 67,
   "id": "36c6071e-ae13-4c53-b3f6-cb58ec28eb63",
   "metadata": {},
   "outputs": [
    {
     "data": {
      "text/plain": [
       "10"
      ]
     },
     "execution_count": 67,
     "metadata": {},
     "output_type": "execute_result"
    }
   ],
   "source": [
    "dogg.age"
   ]
  },
  {
   "cell_type": "code",
   "execution_count": null,
   "id": "a3382222-57f4-43b6-8568-64517c052445",
   "metadata": {},
   "outputs": [],
   "source": []
  }
 ],
 "metadata": {
  "kernelspec": {
   "display_name": "Python [conda env:anaconda3]",
   "language": "python",
   "name": "conda-env-anaconda3-py"
  },
  "language_info": {
   "codemirror_mode": {
    "name": "ipython",
    "version": 3
   },
   "file_extension": ".py",
   "mimetype": "text/x-python",
   "name": "python",
   "nbconvert_exporter": "python",
   "pygments_lexer": "ipython3",
   "version": "3.13.5"
  }
 },
 "nbformat": 4,
 "nbformat_minor": 5
}
