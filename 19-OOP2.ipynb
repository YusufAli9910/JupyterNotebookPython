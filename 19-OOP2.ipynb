{
 "cells": [
  {
   "cell_type": "markdown",
   "id": "caa52976-19a7-4e50-8fc1-495765740b1a",
   "metadata": {},
   "source": [
    "# inheritance"
   ]
  },
  {
   "cell_type": "code",
   "execution_count": 91,
   "id": "c7f21259-6d4f-4c13-aeac-89539ae0beb3",
   "metadata": {},
   "outputs": [],
   "source": [
    "class f2drivers():\n",
    "\n",
    "    def __init__(self,name):\n",
    "        self.name = name\n",
    "        print(\"talented drivers\")\n",
    "    def test1(self):\n",
    "        print(\"test1\")\n",
    "    def test2(self):\n",
    "        print(\"test2\")\n"
   ]
  },
  {
   "cell_type": "code",
   "execution_count": 92,
   "id": "f66680ca-c8fc-4bbc-b80f-09d7b7283a79",
   "metadata": {},
   "outputs": [
    {
     "name": "stdout",
     "output_type": "stream",
     "text": [
      "talented drivers\n"
     ]
    }
   ],
   "source": [
    "f22 = f2drivers(\"gabrial\")"
   ]
  },
  {
   "cell_type": "code",
   "execution_count": 93,
   "id": "8fd89d96-4218-4517-8bc0-75b41cd16266",
   "metadata": {},
   "outputs": [
    {
     "data": {
      "text/plain": [
       "'gabrial'"
      ]
     },
     "execution_count": 93,
     "metadata": {},
     "output_type": "execute_result"
    }
   ],
   "source": [
    "f22.name"
   ]
  },
  {
   "cell_type": "code",
   "execution_count": 94,
   "id": "9d4bf52a-6521-4a8f-8ff0-f0e4b29c564b",
   "metadata": {},
   "outputs": [
    {
     "name": "stdout",
     "output_type": "stream",
     "text": [
      "test1\n"
     ]
    }
   ],
   "source": [
    "f22.test1()"
   ]
  },
  {
   "cell_type": "code",
   "execution_count": null,
   "id": "9c661d56-b2a0-4e30-ab2e-21d830015035",
   "metadata": {},
   "outputs": [],
   "source": []
  },
  {
   "cell_type": "code",
   "execution_count": 95,
   "id": "2d0dcd1d-ca7c-4e1c-a36a-02fabcf27e8e",
   "metadata": {},
   "outputs": [],
   "source": [
    "class f1drv(f2drivers):\n",
    "    \n",
    "    def __init__(self,name):\n",
    "        f2drivers.__init__(self,name)\n",
    "        print(\"alonso\")\n",
    "    def test3(self):\n",
    "        print(\"test3\")\n"
   ]
  },
  {
   "cell_type": "code",
   "execution_count": 96,
   "id": "23740351-730e-4fdd-953e-d609363c7018",
   "metadata": {},
   "outputs": [
    {
     "name": "stdout",
     "output_type": "stream",
     "text": [
      "talented drivers\n",
      "alonso\n"
     ]
    }
   ],
   "source": [
    "aa = f1drv(\"ham\")"
   ]
  },
  {
   "cell_type": "code",
   "execution_count": 97,
   "id": "6cdab442-8709-48de-a889-056739038859",
   "metadata": {},
   "outputs": [
    {
     "name": "stdout",
     "output_type": "stream",
     "text": [
      "test2\n"
     ]
    }
   ],
   "source": [
    "aa.test2()"
   ]
  },
  {
   "cell_type": "code",
   "execution_count": 90,
   "id": "6acad77b-9866-4c90-8ddf-e0b408836aec",
   "metadata": {},
   "outputs": [],
   "source": [
    "# f2drivers.test3()"
   ]
  },
  {
   "cell_type": "code",
   "execution_count": null,
   "id": "ceca635b-f54d-4d8d-bd08-44e8fb195ce1",
   "metadata": {},
   "outputs": [],
   "source": []
  },
  {
   "cell_type": "code",
   "execution_count": null,
   "id": "0b515823-cd7c-43e1-ba96-a60a0009e130",
   "metadata": {},
   "outputs": [],
   "source": []
  },
  {
   "cell_type": "markdown",
   "id": "611391cd-0abe-44b2-ae07-e8887f81d378",
   "metadata": {},
   "source": [
    "# polymorphism"
   ]
  },
  {
   "cell_type": "code",
   "execution_count": 8,
   "id": "ca6ebe58-2aba-49f7-a420-75e5b7506e07",
   "metadata": {},
   "outputs": [],
   "source": [
    "class Banana():\n",
    "\n",
    "    def __init__(self,name):\n",
    "        self.name = name\n",
    "\n",
    "    def info(self):\n",
    "        return f\"100 calories {self.name}\"\n",
    "\n",
    "class Apple():\n",
    "\n",
    "    def __init__(self,name):\n",
    "        self.name = name\n",
    "\n",
    "    def info(self):\n",
    "        return f\"150 calories {self.name}\""
   ]
  },
  {
   "cell_type": "code",
   "execution_count": 9,
   "id": "7d716641-f91c-41f9-a39b-ba77f749edd8",
   "metadata": {},
   "outputs": [],
   "source": [
    "banana = Banana(\"muz\")\n",
    "apple = Apple(\"elma\")"
   ]
  },
  {
   "cell_type": "code",
   "execution_count": 10,
   "id": "a6ed3a44-3f91-4489-a33b-0441df1c9275",
   "metadata": {},
   "outputs": [
    {
     "data": {
      "text/plain": [
       "'elma'"
      ]
     },
     "execution_count": 10,
     "metadata": {},
     "output_type": "execute_result"
    }
   ],
   "source": [
    "apple.name"
   ]
  },
  {
   "cell_type": "code",
   "execution_count": 11,
   "id": "fe6fc096-437a-4e95-9c8a-ef66306e466d",
   "metadata": {},
   "outputs": [
    {
     "data": {
      "text/plain": [
       "'150 calories elma'"
      ]
     },
     "execution_count": 11,
     "metadata": {},
     "output_type": "execute_result"
    }
   ],
   "source": [
    "apple.info()"
   ]
  },
  {
   "cell_type": "code",
   "execution_count": 12,
   "id": "3cd8998a-7aad-4c3b-8e84-ae64d4055f7e",
   "metadata": {},
   "outputs": [
    {
     "data": {
      "text/plain": [
       "'100 calories muz'"
      ]
     },
     "execution_count": 12,
     "metadata": {},
     "output_type": "execute_result"
    }
   ],
   "source": [
    "banana.info()"
   ]
  },
  {
   "cell_type": "code",
   "execution_count": 13,
   "id": "bdd7d6c7-2ca8-479e-8483-3ae3a8cc46cf",
   "metadata": {},
   "outputs": [
    {
     "data": {
      "text/plain": [
       "'muz'"
      ]
     },
     "execution_count": 13,
     "metadata": {},
     "output_type": "execute_result"
    }
   ],
   "source": [
    "banana.name"
   ]
  },
  {
   "cell_type": "code",
   "execution_count": 14,
   "id": "a6e00f03-471c-4307-9a31-f98eb570469b",
   "metadata": {},
   "outputs": [],
   "source": [
    "newList = [banana,apple]"
   ]
  },
  {
   "cell_type": "code",
   "execution_count": 18,
   "id": "f80a48e4-6279-4aab-ac8c-e14da7fe307e",
   "metadata": {},
   "outputs": [
    {
     "name": "stdout",
     "output_type": "stream",
     "text": [
      "100 calories muz\n",
      "150 calories elma\n"
     ]
    }
   ],
   "source": [
    "for fruit in newList:\n",
    "    print(fruit.info())"
   ]
  },
  {
   "cell_type": "code",
   "execution_count": null,
   "id": "d76d6473-9156-422c-ad71-5476bb5cf4b0",
   "metadata": {},
   "outputs": [],
   "source": []
  },
  {
   "cell_type": "markdown",
   "id": "084f06b8-00e8-4ddc-9bb6-d95afec92b17",
   "metadata": {},
   "source": [
    "# encapsulation = \"hapsetmek\""
   ]
  },
  {
   "cell_type": "code",
   "execution_count": 62,
   "id": "9564554f-d986-433d-ae6f-ca322ce8ee5e",
   "metadata": {},
   "outputs": [],
   "source": [
    "class Apple():\n",
    "\n",
    "    def __init__(self,name,price):\n",
    "        self.name = name\n",
    "        self.__price = price\n",
    "\n",
    "    def info(self):\n",
    "        return f\"{self.name} price is: {self.__price}\"\n",
    "\n",
    "    def priceChange(self,price):\n",
    "        self.__price = price\n",
    "\n",
    "    \n",
    "        "
   ]
  },
  {
   "cell_type": "code",
   "execution_count": 63,
   "id": "36b9b0ce-96a3-4aa9-882f-a1082b0b59d8",
   "metadata": {},
   "outputs": [],
   "source": [
    "iphone = Apple(\"iphone 17\",1099)"
   ]
  },
  {
   "cell_type": "code",
   "execution_count": 64,
   "id": "b32036a4-88f3-4a29-9b8f-41fa462e48bf",
   "metadata": {},
   "outputs": [
    {
     "data": {
      "text/plain": [
       "'iphone 17 price is: 1099'"
      ]
     },
     "execution_count": 64,
     "metadata": {},
     "output_type": "execute_result"
    }
   ],
   "source": [
    "iphone.info()"
   ]
  },
  {
   "cell_type": "code",
   "execution_count": 65,
   "id": "b3803dcc-c3f5-4622-8a1e-b3ea15e936a4",
   "metadata": {},
   "outputs": [
    {
     "data": {
      "text/plain": [
       "'iphone 17'"
      ]
     },
     "execution_count": 65,
     "metadata": {},
     "output_type": "execute_result"
    }
   ],
   "source": [
    "iphone.name"
   ]
  },
  {
   "cell_type": "code",
   "execution_count": 66,
   "id": "60cb11de-da0b-4898-9085-ff8bdab34645",
   "metadata": {},
   "outputs": [],
   "source": [
    "iphone.price = 500"
   ]
  },
  {
   "cell_type": "code",
   "execution_count": 67,
   "id": "2643f630-c4a4-4f93-914e-df33fcb194b1",
   "metadata": {},
   "outputs": [
    {
     "data": {
      "text/plain": [
       "500"
      ]
     },
     "execution_count": 67,
     "metadata": {},
     "output_type": "execute_result"
    }
   ],
   "source": [
    "iphone.price"
   ]
  },
  {
   "cell_type": "code",
   "execution_count": 68,
   "id": "8101a6ca-b2fc-42ba-a56c-6ef1c0c7ea12",
   "metadata": {},
   "outputs": [
    {
     "data": {
      "text/plain": [
       "'iphone 17 price is: 1099'"
      ]
     },
     "execution_count": 68,
     "metadata": {},
     "output_type": "execute_result"
    }
   ],
   "source": [
    "iphone.info()"
   ]
  },
  {
   "cell_type": "code",
   "execution_count": 69,
   "id": "fdd88df8-47f6-43d9-9816-09fef5366db4",
   "metadata": {},
   "outputs": [],
   "source": [
    "iphone.priceChange = 500"
   ]
  },
  {
   "cell_type": "code",
   "execution_count": 70,
   "id": "19268e1d-a49e-44f2-be22-b8604fe735c9",
   "metadata": {},
   "outputs": [
    {
     "data": {
      "text/plain": [
       "500"
      ]
     },
     "execution_count": 70,
     "metadata": {},
     "output_type": "execute_result"
    }
   ],
   "source": [
    "iphone.price"
   ]
  },
  {
   "cell_type": "code",
   "execution_count": null,
   "id": "f9e22c3c-3317-45c0-b90b-0c26d254b8af",
   "metadata": {},
   "outputs": [],
   "source": []
  },
  {
   "cell_type": "code",
   "execution_count": null,
   "id": "6fc978fa-1c19-452a-8ab4-fbf11d636bf7",
   "metadata": {},
   "outputs": [],
   "source": []
  },
  {
   "cell_type": "markdown",
   "id": "c109cd9e-2ee1-414d-9ec4-2538cf308ce3",
   "metadata": {},
   "source": [
    "# abstraction"
   ]
  },
  {
   "cell_type": "code",
   "execution_count": 98,
   "id": "91557236-4856-4e04-82b4-033872b2bad7",
   "metadata": {},
   "outputs": [],
   "source": [
    "from abc import ABC, abstractmethod # soyut --> somut"
   ]
  },
  {
   "cell_type": "code",
   "execution_count": 107,
   "id": "7a8d2026-9b84-41c0-bf67-c7e7da6dc581",
   "metadata": {},
   "outputs": [],
   "source": [
    "class F1dr(ABC):\n",
    "    \n",
    "    @abstractmethod # alt metodlari imolement etmeye zorunlu kil demek.\n",
    "    def namechamp(self):\n",
    "        pass"
   ]
  },
  {
   "cell_type": "code",
   "execution_count": 110,
   "id": "780a8b77-029d-49e0-aba5-4915ab2863e5",
   "metadata": {},
   "outputs": [],
   "source": [
    "class hamido(F1dr):\n",
    "\n",
    "    def namechamp(self):\n",
    "        print(\"hello\")\n",
    "        "
   ]
  },
  {
   "cell_type": "code",
   "execution_count": 111,
   "id": "6c322752-0112-4fa8-ac0e-f0649917179d",
   "metadata": {},
   "outputs": [],
   "source": [
    "alonso = hamido()"
   ]
  },
  {
   "cell_type": "code",
   "execution_count": 113,
   "id": "3708414f-aabd-4156-8438-f1f818538a2b",
   "metadata": {},
   "outputs": [
    {
     "name": "stdout",
     "output_type": "stream",
     "text": [
      "hello\n"
     ]
    }
   ],
   "source": [
    "alonso.namechamp()"
   ]
  },
  {
   "cell_type": "code",
   "execution_count": null,
   "id": "0e42f84c-6398-4b8c-956e-972db636656e",
   "metadata": {},
   "outputs": [],
   "source": []
  },
  {
   "cell_type": "code",
   "execution_count": null,
   "id": "9a89641f-5c18-4ab5-84d3-02c7ca91dc8d",
   "metadata": {},
   "outputs": [],
   "source": []
  },
  {
   "cell_type": "markdown",
   "id": "49c30b14-c4a0-453a-b592-82d432ab8c7b",
   "metadata": {},
   "source": [
    "# Special Methods"
   ]
  },
  {
   "cell_type": "code",
   "execution_count": 142,
   "id": "cfa3b0ff-e8ba-4736-9ec2-0bdaa469c19e",
   "metadata": {},
   "outputs": [],
   "source": [
    "class Fruit():\n",
    "\n",
    "    def __init__(self,name,calories):\n",
    "        self.name = name\n",
    "        self.calories = calories\n",
    "\n",
    "    def __str__(self):\n",
    "        return f\"{self.name}: {self.calories} calories\"\n",
    "\n",
    "    def __len__(self):    #“Bu nesnenin uzunluğunu söylemek için kullanılan metod.”\n",
    "                          #len(ml) → Python bunu ml.__len__() olarak çalıştırır.\n",
    "        \n",
    "        return self.calories"
   ]
  },
  {
   "cell_type": "code",
   "execution_count": 115,
   "id": "ecf0a28c-21c1-40b1-817c-902aac2b65e8",
   "metadata": {},
   "outputs": [],
   "source": [
    "apple = Fruit(\"elma\",100)"
   ]
  },
  {
   "cell_type": "code",
   "execution_count": 116,
   "id": "63840df8-6da8-47e2-9872-230064bf4577",
   "metadata": {},
   "outputs": [
    {
     "data": {
      "text/plain": [
       "100"
      ]
     },
     "execution_count": 116,
     "metadata": {},
     "output_type": "execute_result"
    }
   ],
   "source": [
    "apple.calories"
   ]
  },
  {
   "cell_type": "code",
   "execution_count": 117,
   "id": "0324e55f-befd-47c1-ae76-501bec0da8c3",
   "metadata": {},
   "outputs": [
    {
     "data": {
      "text/plain": [
       "'elma'"
      ]
     },
     "execution_count": 117,
     "metadata": {},
     "output_type": "execute_result"
    }
   ],
   "source": [
    "apple.name"
   ]
  },
  {
   "cell_type": "code",
   "execution_count": 118,
   "id": "437a70a1-72c4-47b6-9a8e-897936dd2fda",
   "metadata": {},
   "outputs": [
    {
     "name": "stdout",
     "output_type": "stream",
     "text": [
      "elma: 100 calories\n"
     ]
    }
   ],
   "source": [
    "print(apple)"
   ]
  },
  {
   "cell_type": "code",
   "execution_count": 119,
   "id": "b75d417e-b6d6-4bec-816c-ad16aa350eea",
   "metadata": {},
   "outputs": [
    {
     "data": {
      "text/plain": [
       "100"
      ]
     },
     "execution_count": 119,
     "metadata": {},
     "output_type": "execute_result"
    }
   ],
   "source": [
    "len(apple)"
   ]
  },
  {
   "cell_type": "code",
   "execution_count": 138,
   "id": "627cf900-fedc-4fa8-b92e-05301807ea44",
   "metadata": {},
   "outputs": [],
   "source": [
    "class Train():\n",
    "\n",
    "    def __init__(self,name):  # Nesne oluşturulduğunda çalışır, özellikleri başlatır Bir sınıftan nesne oluşturulduğunda otomatik çalışan bir metottur.\n",
    "        self.name = name\n",
    "\n",
    "    def __getitem__(self,key):  #Liste, sözlük veya kendi yazdığın sınıf gibi nesnelerde obj[index] veya obj[key] yaptığında Python otomatik olarak obj.__getitem__(index) metodunu çağırır.\n",
    "        if key == \"a\":          # index ve key cagirmak icin\n",
    "            return self.name\n",
    "        else:\n",
    "            return \"dw\"\n",
    "\n",
    "    def __str__(self):  # stringe donusturur\n",
    "        return \"ali\""
   ]
  },
  {
   "cell_type": "code",
   "execution_count": 139,
   "id": "df406fa0-9219-4f99-9fab-35f4e9aa7daf",
   "metadata": {},
   "outputs": [],
   "source": [
    "ttrain = Train(\"king\")"
   ]
  },
  {
   "cell_type": "code",
   "execution_count": 140,
   "id": "3f6806d9-3c97-41f5-95ef-3e29e4139afb",
   "metadata": {},
   "outputs": [
    {
     "data": {
      "text/plain": [
       "'king'"
      ]
     },
     "execution_count": 140,
     "metadata": {},
     "output_type": "execute_result"
    }
   ],
   "source": [
    "ttrain[\"a\"]"
   ]
  },
  {
   "cell_type": "code",
   "execution_count": 141,
   "id": "e2b0c4a7-c126-4d43-87c5-926e4ad17756",
   "metadata": {},
   "outputs": [
    {
     "name": "stdout",
     "output_type": "stream",
     "text": [
      "ali\n"
     ]
    }
   ],
   "source": [
    "print(ttrain)"
   ]
  },
  {
   "cell_type": "code",
   "execution_count": null,
   "id": "bca20087-9247-4734-8aba-66a312cdb372",
   "metadata": {},
   "outputs": [],
   "source": []
  },
  {
   "cell_type": "code",
   "execution_count": null,
   "id": "0479c7d4-a757-4679-8ce8-50362d7d56f2",
   "metadata": {},
   "outputs": [],
   "source": []
  },
  {
   "cell_type": "code",
   "execution_count": null,
   "id": "326320aa-08cd-4829-97cd-1e20d5fb3f5a",
   "metadata": {},
   "outputs": [],
   "source": []
  }
 ],
 "metadata": {
  "kernelspec": {
   "display_name": "Python [conda env:anaconda3]",
   "language": "python",
   "name": "conda-env-anaconda3-py"
  },
  "language_info": {
   "codemirror_mode": {
    "name": "ipython",
    "version": 3
   },
   "file_extension": ".py",
   "mimetype": "text/x-python",
   "name": "python",
   "nbconvert_exporter": "python",
   "pygments_lexer": "ipython3",
   "version": "3.13.5"
  }
 },
 "nbformat": 4,
 "nbformat_minor": 5
}
