{
 "cells": [
  {
   "cell_type": "code",
   "execution_count": 24,
   "id": "21821597-5dd1-48e8-92b3-b10e1f92cd3f",
   "metadata": {},
   "outputs": [],
   "source": [
    "def namee(**kwargs):\n",
    "    if \"ali\" in kwargs.values():\n",
    "        print(\"Ali is alive\")\n",
    "    else:\n",
    "        print(\"Ali dead\")"
   ]
  },
  {
   "cell_type": "code",
   "execution_count": 25,
   "id": "11f7adc8-7a05-4b6e-a7d3-94ee44f9c18d",
   "metadata": {},
   "outputs": [
    {
     "name": "stdout",
     "output_type": "stream",
     "text": [
      "Ali is alive\n"
     ]
    }
   ],
   "source": [
    "namee(ali = \"ali\", king = \"Ali\")"
   ]
  },
  {
   "cell_type": "code",
   "execution_count": null,
   "id": "6c45883d-63c1-48aa-a67e-ceb1b1f2c85a",
   "metadata": {},
   "outputs": [],
   "source": []
  },
  {
   "cell_type": "code",
   "execution_count": null,
   "id": "b9ff673d-9edb-4fa7-b60c-89dccfd47a78",
   "metadata": {},
   "outputs": [],
   "source": []
  },
  {
   "cell_type": "code",
   "execution_count": 26,
   "id": "4b9016f2-9faa-4108-a771-8c72a0728696",
   "metadata": {},
   "outputs": [],
   "source": [
    "newList = [num ** 5 for num in list(range(1,10))]"
   ]
  },
  {
   "cell_type": "code",
   "execution_count": 27,
   "id": "7b3ebb21-9927-420e-a376-34754569f73f",
   "metadata": {},
   "outputs": [
    {
     "data": {
      "text/plain": [
       "[1, 32, 243, 1024, 3125, 7776, 16807, 32768, 59049]"
      ]
     },
     "execution_count": 27,
     "metadata": {},
     "output_type": "execute_result"
    }
   ],
   "source": [
    "newList"
   ]
  },
  {
   "cell_type": "code",
   "execution_count": null,
   "id": "ccaba00b-4613-4b56-8529-b55641bb0d8b",
   "metadata": {},
   "outputs": [],
   "source": []
  },
  {
   "cell_type": "code",
   "execution_count": null,
   "id": "8bb061c3-b70e-4f90-8b35-e1aa55d5decd",
   "metadata": {},
   "outputs": [],
   "source": []
  },
  {
   "cell_type": "code",
   "execution_count": 28,
   "id": "c7f17e5a-3d93-45be-b45a-d4c2e5b9094e",
   "metadata": {},
   "outputs": [],
   "source": [
    "myList = [10,20,30,40,50,60,70,80,90,100]"
   ]
  },
  {
   "cell_type": "code",
   "execution_count": 29,
   "id": "a160ec7d-921d-4d4e-b30a-4b35d19ccc07",
   "metadata": {},
   "outputs": [],
   "source": [
    "newOne = [numm / 5 for numm in myList]"
   ]
  },
  {
   "cell_type": "code",
   "execution_count": 30,
   "id": "0f11f12d-74de-4e66-bfe6-c137c1e92bbb",
   "metadata": {},
   "outputs": [
    {
     "data": {
      "text/plain": [
       "[2.0, 4.0, 6.0, 8.0, 10.0, 12.0, 14.0, 16.0, 18.0, 20.0]"
      ]
     },
     "execution_count": 30,
     "metadata": {},
     "output_type": "execute_result"
    }
   ],
   "source": [
    "newOne"
   ]
  },
  {
   "cell_type": "code",
   "execution_count": null,
   "id": "ede71907-46e8-4bad-b8e4-db327f25cf56",
   "metadata": {},
   "outputs": [],
   "source": []
  }
 ],
 "metadata": {
  "kernelspec": {
   "display_name": "Python [conda env:anaconda3]",
   "language": "python",
   "name": "conda-env-anaconda3-py"
  },
  "language_info": {
   "codemirror_mode": {
    "name": "ipython",
    "version": 3
   },
   "file_extension": ".py",
   "mimetype": "text/x-python",
   "name": "python",
   "nbconvert_exporter": "python",
   "pygments_lexer": "ipython3",
   "version": "3.13.5"
  }
 },
 "nbformat": 4,
 "nbformat_minor": 5
}
