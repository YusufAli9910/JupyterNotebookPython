{
 "cells": [
  {
   "cell_type": "code",
   "execution_count": 1,
   "id": "4f720172-91fe-4a85-8b60-772e5cf592ab",
   "metadata": {},
   "outputs": [],
   "source": [
    "x = 20\n",
    "def mult(num):\n",
    "    x = 5\n",
    "    return num * x\n",
    "x = 10"
   ]
  },
  {
   "cell_type": "code",
   "execution_count": 2,
   "id": "ae11b09c-59a9-4e72-a7ea-12cbcec161ce",
   "metadata": {},
   "outputs": [
    {
     "data": {
      "text/plain": [
       "50"
      ]
     },
     "execution_count": 2,
     "metadata": {},
     "output_type": "execute_result"
    }
   ],
   "source": [
    "mult(10)"
   ]
  },
  {
   "cell_type": "code",
   "execution_count": 3,
   "id": "b492e911-0b5c-41d4-8ed0-ec095de2f2f1",
   "metadata": {},
   "outputs": [
    {
     "data": {
      "text/plain": [
       "10"
      ]
     },
     "execution_count": 3,
     "metadata": {},
     "output_type": "execute_result"
    }
   ],
   "source": [
    "x"
   ]
  },
  {
   "cell_type": "code",
   "execution_count": 8,
   "id": "46bc7f0b-45d2-47ed-ac6d-e7bd40870489",
   "metadata": {},
   "outputs": [],
   "source": [
    "x = 20\n",
    "\n",
    "def multii(numm):\n",
    "    return numm * x"
   ]
  },
  {
   "cell_type": "code",
   "execution_count": 9,
   "id": "93149bb6-f2e3-4bd5-a685-2a376a4aea4d",
   "metadata": {},
   "outputs": [
    {
     "data": {
      "text/plain": [
       "200"
      ]
     },
     "execution_count": 9,
     "metadata": {},
     "output_type": "execute_result"
    }
   ],
   "source": [
    "multii(10)"
   ]
  },
  {
   "cell_type": "code",
   "execution_count": null,
   "id": "4bcefef2-0288-4d92-9e5e-703a6a33a978",
   "metadata": {},
   "outputs": [],
   "source": []
  },
  {
   "cell_type": "markdown",
   "id": "49622117-53a9-4281-a274-485a2d91d0a8",
   "metadata": {},
   "source": [
    "# LEGB\n",
    "\n",
    "# L --> local\n",
    "# E --> Enclosing\n",
    "# G --> Global\n",
    "# B --> Built-In"
   ]
  },
  {
   "cell_type": "code",
   "execution_count": 19,
   "id": "83a6707d-9f27-4fde-b3e9-7d9544f1cde5",
   "metadata": {},
   "outputs": [],
   "source": [
    "#Global\n",
    "myString = \"ali\"\n",
    "\n",
    "def myFunction():\n",
    "    #Enclosing\n",
    "    myString = \"ali 2\"\n",
    "    print(myString)\n",
    "\n",
    "    def myFunction2():\n",
    "        #Local\n",
    "        myString = \"ali 3\"\n",
    "        print(myString)\n",
    "    "
   ]
  },
  {
   "cell_type": "code",
   "execution_count": 20,
   "id": "cc6a3f9c-55da-4f6a-b670-9a108e6c573e",
   "metadata": {},
   "outputs": [
    {
     "data": {
      "text/plain": [
       "'ali'"
      ]
     },
     "execution_count": 20,
     "metadata": {},
     "output_type": "execute_result"
    }
   ],
   "source": [
    "myString"
   ]
  },
  {
   "cell_type": "code",
   "execution_count": 22,
   "id": "f123cdd2-4a92-41a9-a7c8-87ac394323dc",
   "metadata": {},
   "outputs": [
    {
     "name": "stdout",
     "output_type": "stream",
     "text": [
      "ali 2\n"
     ]
    }
   ],
   "source": [
    "myFunction()"
   ]
  },
  {
   "cell_type": "code",
   "execution_count": null,
   "id": "ede0d322-e516-4541-acfb-4af12cb756a9",
   "metadata": {},
   "outputs": [],
   "source": []
  },
  {
   "cell_type": "code",
   "execution_count": 34,
   "id": "288270b5-3c70-4dc2-835f-3cf20dcb30e6",
   "metadata": {},
   "outputs": [],
   "source": [
    "myString = \"ali\"\n",
    "\n",
    "def myFunction():\n",
    "    #Enclosing\n",
    "    myString = \"ali 2\"\n",
    "    print(myString)\n",
    "\n",
    "    def myFunction2():\n",
    "        #Local\n",
    "        myString = \"ali 3\"\n",
    "        print(myString)\n",
    "\n",
    "        def myFunction3():\n",
    "            myString = \"ali 4\"\n",
    "            print(myString)\n",
    "        \n",
    "    \n",
    "    "
   ]
  },
  {
   "cell_type": "code",
   "execution_count": 35,
   "id": "6f6dc2f4-3f85-48fb-ad1d-a8f4153f8eae",
   "metadata": {},
   "outputs": [
    {
     "name": "stdout",
     "output_type": "stream",
     "text": [
      "ali 2\n"
     ]
    }
   ],
   "source": [
    "myFunction()"
   ]
  },
  {
   "cell_type": "code",
   "execution_count": 79,
   "id": "48d215c1-ad37-4443-9f6b-9e25e70e6695",
   "metadata": {},
   "outputs": [],
   "source": [
    "myString = \"ali\"\n",
    "\n",
    "def myFunction():\n",
    "    #Enclosing\n",
    "    myString = \"ali 2\"\n",
    "    \n",
    "\n",
    "    def myFunction2():\n",
    "        #Local\n",
    "        myString = \"ali 3\"\n",
    "        print(myString)\n",
    "    myFunction2()\n",
    "   \n",
    "   \n",
    "    \n",
    "        \n",
    "\n",
    "    def myFunction3():\n",
    "        myString = \"ali 4\"\n",
    "        print(myString)\n",
    "            \n",
    " \n",
    "     \n",
    "        \n",
    "   "
   ]
  },
  {
   "cell_type": "code",
   "execution_count": 80,
   "id": "21030053-75c2-4dcb-94fd-afe66da2631b",
   "metadata": {},
   "outputs": [
    {
     "name": "stdout",
     "output_type": "stream",
     "text": [
      "ali 3\n"
     ]
    }
   ],
   "source": [
    "myFunction()"
   ]
  },
  {
   "cell_type": "code",
   "execution_count": 61,
   "id": "7b62158b-63d2-4728-9224-b8313cf7e770",
   "metadata": {},
   "outputs": [],
   "source": [
    "myString = \"ali\"\n",
    "\n",
    "def myFunction():\n",
    "    #Enclosing\n",
    "    myString = \"ali 2\"\n",
    "    \n",
    "\n",
    "    def myFunction2():\n",
    "        #Local\n",
    "        myString = \"ali 3\"\n",
    "        print(myString)\n",
    "    \n",
    "        \n",
    "\n",
    "    def myFunction3():\n",
    "        myString = \"ali 4\"\n",
    "        print(myString)\n",
    "    myFunction3()\n",
    "            "
   ]
  },
  {
   "cell_type": "code",
   "execution_count": 62,
   "id": "b80c65fd-b60a-417f-920f-6d82ee547351",
   "metadata": {},
   "outputs": [
    {
     "name": "stdout",
     "output_type": "stream",
     "text": [
      "ali 4\n"
     ]
    }
   ],
   "source": [
    "myFunction()"
   ]
  },
  {
   "cell_type": "code",
   "execution_count": null,
   "id": "c773a6ba-1180-4bc7-a1db-1c452eea0f63",
   "metadata": {},
   "outputs": [],
   "source": []
  },
  {
   "cell_type": "code",
   "execution_count": 87,
   "id": "5414346c-3bc7-4791-9754-67fa3fe71133",
   "metadata": {},
   "outputs": [
    {
     "data": {
      "text/plain": [
       "[20]"
      ]
     },
     "execution_count": 87,
     "metadata": {},
     "output_type": "execute_result"
    }
   ],
   "source": [
    "nume = [10]\n",
    "list(map(lambda num:num * 2 , nume ))"
   ]
  },
  {
   "cell_type": "code",
   "execution_count": 88,
   "id": "538b61e9-03c1-4499-8fbc-35d6c597b290",
   "metadata": {},
   "outputs": [],
   "source": [
    " def test1():\n",
    "     myX = 10\n",
    "     print(myX * 2)\n",
    "\n",
    "def test2():\n",
    "    print(myX * 3)"
   ]
  },
  {
   "cell_type": "code",
   "execution_count": 89,
   "id": "4495971d-f1ee-44c4-87c4-38bd3bb15bdc",
   "metadata": {},
   "outputs": [
    {
     "name": "stdout",
     "output_type": "stream",
     "text": [
      "20\n"
     ]
    }
   ],
   "source": [
    "test1()"
   ]
  },
  {
   "cell_type": "code",
   "execution_count": 91,
   "id": "e38402a2-2cbb-4aed-b659-7c7076a5feed",
   "metadata": {},
   "outputs": [],
   "source": [
    "#test2()  eror verir cunku kendi kapsaminda degil"
   ]
  },
  {
   "cell_type": "code",
   "execution_count": 92,
   "id": "dcd5c54a-f09a-4bec-9d7e-c7980bff4742",
   "metadata": {},
   "outputs": [],
   "source": [
    "y = 10\n",
    "def newF(y):\n",
    "    print(y)\n",
    "    y = 5\n",
    "    print(y)\n",
    "    return y"
   ]
  },
  {
   "cell_type": "code",
   "execution_count": 93,
   "id": "8637f133-b48f-4f9e-a469-9d63f8c9bc36",
   "metadata": {},
   "outputs": [
    {
     "name": "stdout",
     "output_type": "stream",
     "text": [
      "20\n",
      "5\n"
     ]
    },
    {
     "data": {
      "text/plain": [
       "5"
      ]
     },
     "execution_count": 93,
     "metadata": {},
     "output_type": "execute_result"
    }
   ],
   "source": [
    "newF(20)"
   ]
  },
  {
   "cell_type": "code",
   "execution_count": 94,
   "id": "a9c21132-44ec-4e7f-ae7c-5e13affeab38",
   "metadata": {},
   "outputs": [
    {
     "name": "stdout",
     "output_type": "stream",
     "text": [
      "10\n",
      "5\n"
     ]
    },
    {
     "data": {
      "text/plain": [
       "5"
      ]
     },
     "execution_count": 94,
     "metadata": {},
     "output_type": "execute_result"
    }
   ],
   "source": [
    "newF(y)"
   ]
  },
  {
   "cell_type": "code",
   "execution_count": 95,
   "id": "da9c2c7e-8517-4a45-be97-71b5cb036795",
   "metadata": {},
   "outputs": [
    {
     "data": {
      "text/plain": [
       "10"
      ]
     },
     "execution_count": 95,
     "metadata": {},
     "output_type": "execute_result"
    }
   ],
   "source": [
    "y"
   ]
  },
  {
   "cell_type": "code",
   "execution_count": 103,
   "id": "37552c64-5c69-4363-83d0-af17660de364",
   "metadata": {},
   "outputs": [],
   "source": [
    "y = 10\n",
    "def changeY():\n",
    "    global y\n",
    "    y = 5\n",
    "    print(y)"
   ]
  },
  {
   "cell_type": "code",
   "execution_count": 106,
   "id": "2db31b83-f1a4-4a5f-b79b-84a8a6c8b606",
   "metadata": {},
   "outputs": [
    {
     "name": "stdout",
     "output_type": "stream",
     "text": [
      "5\n"
     ]
    }
   ],
   "source": [
    "changeY()"
   ]
  },
  {
   "cell_type": "code",
   "execution_count": 107,
   "id": "2b1b4832-17e8-40b5-bdd7-af594c33fa0f",
   "metadata": {},
   "outputs": [
    {
     "data": {
      "text/plain": [
       "5"
      ]
     },
     "execution_count": 107,
     "metadata": {},
     "output_type": "execute_result"
    }
   ],
   "source": [
    "y"
   ]
  },
  {
   "cell_type": "code",
   "execution_count": null,
   "id": "f6221a3d-1886-4559-918a-76d0650d9f82",
   "metadata": {},
   "outputs": [],
   "source": []
  }
 ],
 "metadata": {
  "kernelspec": {
   "display_name": "Python [conda env:anaconda3]",
   "language": "python",
   "name": "conda-env-anaconda3-py"
  },
  "language_info": {
   "codemirror_mode": {
    "name": "ipython",
    "version": 3
   },
   "file_extension": ".py",
   "mimetype": "text/x-python",
   "name": "python",
   "nbconvert_exporter": "python",
   "pygments_lexer": "ipython3",
   "version": "3.13.5"
  }
 },
 "nbformat": 4,
 "nbformat_minor": 5
}
