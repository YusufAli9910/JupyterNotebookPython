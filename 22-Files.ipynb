{
 "cells": [
  {
   "cell_type": "code",
   "execution_count": 5,
   "id": "d494744f-97f7-4a9c-b72f-d00b0b42f3e2",
   "metadata": {},
   "outputs": [
    {
     "name": "stdout",
     "output_type": "stream",
     "text": [
      "Overwriting myfile.txt\n"
     ]
    }
   ],
   "source": [
    "%%writefile myfile.txt\n",
    "test 1 \n",
    "test 2 \n",
    "test 3"
   ]
  },
  {
   "cell_type": "code",
   "execution_count": 6,
   "id": "38d86086-db36-4835-99d1-e48b964acc11",
   "metadata": {},
   "outputs": [],
   "source": [
    "myFile = open(\"myfile.txt\")"
   ]
  },
  {
   "cell_type": "code",
   "execution_count": 7,
   "id": "4740adcf-54b4-4520-aede-0fc3058138b4",
   "metadata": {},
   "outputs": [
    {
     "data": {
      "text/plain": [
       "_io.TextIOWrapper"
      ]
     },
     "execution_count": 7,
     "metadata": {},
     "output_type": "execute_result"
    }
   ],
   "source": [
    "type(myFile)"
   ]
  },
  {
   "cell_type": "code",
   "execution_count": 8,
   "id": "c3dcc5c5-1d28-46c5-b718-38f1ada7d185",
   "metadata": {},
   "outputs": [],
   "source": [
    "# myFile.close ---> kapatmak"
   ]
  },
  {
   "cell_type": "code",
   "execution_count": 9,
   "id": "8b7343f2-dcab-4134-8a50-6bf540212e10",
   "metadata": {},
   "outputs": [],
   "source": [
    "# myFile.errors -----> hatalari gostermek"
   ]
  },
  {
   "cell_type": "code",
   "execution_count": 10,
   "id": "b214a63a-1671-4e9b-bdf4-cfe8f6163afc",
   "metadata": {},
   "outputs": [
    {
     "data": {
      "text/plain": [
       "'test 1 \\ntest 2 \\ntest 3\\n'"
      ]
     },
     "execution_count": 10,
     "metadata": {},
     "output_type": "execute_result"
    }
   ],
   "source": [
    "myFile.read()"
   ]
  },
  {
   "cell_type": "code",
   "execution_count": 11,
   "id": "f056a664-0c6e-4170-83b5-262cf5fde4cc",
   "metadata": {},
   "outputs": [
    {
     "data": {
      "text/plain": [
       "''"
      ]
     },
     "execution_count": 11,
     "metadata": {},
     "output_type": "execute_result"
    }
   ],
   "source": [
    "myFile.read()"
   ]
  },
  {
   "cell_type": "code",
   "execution_count": 16,
   "id": "7c42afe6-aba9-4269-8db6-2bae5702aed0",
   "metadata": {},
   "outputs": [
    {
     "data": {
      "text/plain": [
       "0"
      ]
     },
     "execution_count": 16,
     "metadata": {},
     "output_type": "execute_result"
    }
   ],
   "source": [
    "myFile.seek(0)  # ----> mouse en basa gitti"
   ]
  },
  {
   "cell_type": "code",
   "execution_count": 17,
   "id": "7184520c-de3c-46de-8a2b-187ce6f0b779",
   "metadata": {},
   "outputs": [
    {
     "data": {
      "text/plain": [
       "'test 1 \\ntest 2 \\ntest 3\\n'"
      ]
     },
     "execution_count": 17,
     "metadata": {},
     "output_type": "execute_result"
    }
   ],
   "source": [
    "myFile.read()"
   ]
  },
  {
   "cell_type": "code",
   "execution_count": 18,
   "id": "821c767d-345f-4d17-b069-5038f0cda710",
   "metadata": {},
   "outputs": [
    {
     "data": {
      "text/plain": [
       "''"
      ]
     },
     "execution_count": 18,
     "metadata": {},
     "output_type": "execute_result"
    }
   ],
   "source": [
    "myFile.read()"
   ]
  },
  {
   "cell_type": "code",
   "execution_count": 20,
   "id": "19a8f0df-cf7a-4c7b-8bd7-c4377bf46266",
   "metadata": {},
   "outputs": [],
   "source": [
    "myFile.close()  # dosyayi kapatmamiz lazim yoksa ortalik karisir"
   ]
  },
  {
   "cell_type": "code",
   "execution_count": null,
   "id": "d0d3cdc3-2a08-40e6-a029-9ac97152b30c",
   "metadata": {},
   "outputs": [],
   "source": []
  },
  {
   "cell_type": "code",
   "execution_count": null,
   "id": "cb1e360b-85b2-414f-8daf-ec0048063437",
   "metadata": {},
   "outputs": [],
   "source": []
  },
  {
   "cell_type": "code",
   "execution_count": 21,
   "id": "304df481-827d-4073-a719-409b228f5376",
   "metadata": {},
   "outputs": [],
   "source": [
    "####### with"
   ]
  },
  {
   "cell_type": "code",
   "execution_count": 22,
   "id": "f2b2fccf-db40-49b7-be81-1c5f18b03965",
   "metadata": {},
   "outputs": [],
   "source": [
    "with open(\"myfile.txt\") as myFile:\n",
    "    myContent = myFile.read()"
   ]
  },
  {
   "cell_type": "code",
   "execution_count": 23,
   "id": "8f214945-77c4-42fc-9586-dfb6e6dc1210",
   "metadata": {},
   "outputs": [
    {
     "data": {
      "text/plain": [
       "'test 1 \\ntest 2 \\ntest 3\\n'"
      ]
     },
     "execution_count": 23,
     "metadata": {},
     "output_type": "execute_result"
    }
   ],
   "source": [
    "myContent"
   ]
  },
  {
   "cell_type": "code",
   "execution_count": 29,
   "id": "6c54c00c-2b4d-4f6d-ac67-2539abef193f",
   "metadata": {},
   "outputs": [],
   "source": [
    "with open(\"myfile.txt\",mode = \"w\") as myNewFile:\n",
    "    myNewFile.write(\"test 4\")"
   ]
  },
  {
   "cell_type": "code",
   "execution_count": 30,
   "id": "bb97ded3-c955-4742-98ea-d435dd2a62e1",
   "metadata": {},
   "outputs": [
    {
     "data": {
      "text/plain": [
       "<_io.TextIOWrapper name='myfile.txt' mode='w' encoding='cp1252'>"
      ]
     },
     "execution_count": 30,
     "metadata": {},
     "output_type": "execute_result"
    }
   ],
   "source": [
    "myNewFile"
   ]
  },
  {
   "cell_type": "code",
   "execution_count": 32,
   "id": "e3f88047-2657-43a5-864f-f67d8e26d352",
   "metadata": {},
   "outputs": [],
   "source": [
    "with open(\"myfile.txt\",mode = \"r\") as myFile2:\n",
    "    myContent2 = myFile2.read()"
   ]
  },
  {
   "cell_type": "code",
   "execution_count": 33,
   "id": "7467c953-0bc5-43e1-a818-48f0c5daf625",
   "metadata": {},
   "outputs": [
    {
     "data": {
      "text/plain": [
       "'test 4'"
      ]
     },
     "execution_count": 33,
     "metadata": {},
     "output_type": "execute_result"
    }
   ],
   "source": [
    "myContent2"
   ]
  },
  {
   "cell_type": "markdown",
   "id": "0b3ded6f-bf29-42cc-99cf-f08d05983a5d",
   "metadata": {},
   "source": [
    "# w --> write , r --> read , a --> append"
   ]
  },
  {
   "cell_type": "code",
   "execution_count": 36,
   "id": "dcafa50d-b656-42aa-9658-ad2088dc6275",
   "metadata": {},
   "outputs": [],
   "source": [
    "with open(\"myfile.txt\",mode = \"a\") as myNewFile3:\n",
    "    myNewFile3.write(\"test 5\")"
   ]
  },
  {
   "cell_type": "code",
   "execution_count": 38,
   "id": "fe662e83-ca4c-4103-afe0-a3f9d78c1031",
   "metadata": {},
   "outputs": [],
   "source": [
    "with open(\"myfile.txt\",mode = \"r\") as myFile4:\n",
    "    myContent3 = myFile4.read()"
   ]
  },
  {
   "cell_type": "code",
   "execution_count": 39,
   "id": "87905d18-bb84-49d6-b153-d4f3ae3d9234",
   "metadata": {},
   "outputs": [
    {
     "data": {
      "text/plain": [
       "'test 4test 4test 5'"
      ]
     },
     "execution_count": 39,
     "metadata": {},
     "output_type": "execute_result"
    }
   ],
   "source": [
    "myContent3"
   ]
  },
  {
   "cell_type": "code",
   "execution_count": null,
   "id": "e74210e4-e680-4fc1-b25c-d1c3fde1b823",
   "metadata": {},
   "outputs": [],
   "source": []
  }
 ],
 "metadata": {
  "kernelspec": {
   "display_name": "Python [conda env:anaconda3]",
   "language": "python",
   "name": "conda-env-anaconda3-py"
  },
  "language_info": {
   "codemirror_mode": {
    "name": "ipython",
    "version": 3
   },
   "file_extension": ".py",
   "mimetype": "text/x-python",
   "name": "python",
   "nbconvert_exporter": "python",
   "pygments_lexer": "ipython3",
   "version": "3.13.5"
  }
 },
 "nbformat": 4,
 "nbformat_minor": 5
}
