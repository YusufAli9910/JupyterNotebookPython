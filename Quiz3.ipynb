{
 "cells": [
  {
   "cell_type": "markdown",
   "id": "8338ffd3-57a2-4fb4-b959-fc1802f37648",
   "metadata": {},
   "source": [
    "# 1"
   ]
  },
  {
   "cell_type": "code",
   "execution_count": null,
   "id": "e0737237-a5e4-4766-b871-aad7263983d7",
   "metadata": {},
   "outputs": [],
   "source": [
    "def toplama(a,b):\n",
    "    print(a,b)   # cittisi ne olacak"
   ]
  },
  {
   "cell_type": "code",
   "execution_count": 47,
   "id": "50c4487d-558d-4989-8c2b-3eef0bc73979",
   "metadata": {},
   "outputs": [],
   "source": [
    "# x = toplama(3,4)\n",
    "# print(x)"
   ]
  },
  {
   "cell_type": "code",
   "execution_count": 68,
   "id": "47f5b747-ceff-47dd-a6b8-2e8227b5db95",
   "metadata": {},
   "outputs": [],
   "source": [
    "# citti = (3,4) \n",
    "# DOGRU"
   ]
  },
  {
   "cell_type": "markdown",
   "id": "44118d95-238d-49ca-88d8-b06ab27c9de2",
   "metadata": {},
   "source": [
    "# 2"
   ]
  },
  {
   "cell_type": "code",
   "execution_count": 7,
   "id": "c4735dbf-3800-43d2-93de-8ea565e3910e",
   "metadata": {},
   "outputs": [],
   "source": [
    "def usselIslem(x=5,y=3):\n",
    "    print(x ** y)   # boyle cagirirsak sonuc ne olur"
   ]
  },
  {
   "cell_type": "code",
   "execution_count": 8,
   "id": "3d831b19-719b-4058-b8cb-22599f4c575d",
   "metadata": {},
   "outputs": [],
   "source": [
    "# ussellslem (2,4)"
   ]
  },
  {
   "cell_type": "code",
   "execution_count": 50,
   "id": "f9c8cf7e-5df6-4852-9760-74ea499e153e",
   "metadata": {},
   "outputs": [],
   "source": [
    "# cevap = 2 ussu 4 = 16    , hata\n",
    "# DOGRU"
   ]
  },
  {
   "cell_type": "markdown",
   "id": "45664a64-ccc4-4009-807d-b9ee6ab3ec3a",
   "metadata": {},
   "source": [
    "# 3"
   ]
  },
  {
   "cell_type": "code",
   "execution_count": 10,
   "id": "29d74058-9420-4734-b357-d2b3dd175fc9",
   "metadata": {},
   "outputs": [],
   "source": [
    "# ussellslem()"
   ]
  },
  {
   "cell_type": "code",
   "execution_count": 51,
   "id": "c928ed36-e81e-412a-9519-6feaec707fa8",
   "metadata": {},
   "outputs": [],
   "source": [
    "# cevap = 5 ussu 3 = 125    ,  hata\n",
    "# DOGRU"
   ]
  },
  {
   "cell_type": "markdown",
   "id": "83425338-1a85-4d9d-a9d6-96e6b4c2b55d",
   "metadata": {},
   "source": [
    "# 4"
   ]
  },
  {
   "cell_type": "code",
   "execution_count": 12,
   "id": "b5b5df4c-fd4e-495c-8bd1-fa9be4ed3ac7",
   "metadata": {},
   "outputs": [],
   "source": [
    "# cittisi ne olacak\n",
    "def myLoop(*args):\n",
    "    for element in args:\n",
    "        print(element / 2)"
   ]
  },
  {
   "cell_type": "code",
   "execution_count": 13,
   "id": "4f6ca8eb-11de-4b1f-9e96-a5b866a9f0fa",
   "metadata": {},
   "outputs": [],
   "source": [
    "# myLoop(3,2,1,5,3,4)"
   ]
  },
  {
   "cell_type": "code",
   "execution_count": 53,
   "id": "29f62cc5-7007-413b-83bd-fecddc65fc36",
   "metadata": {},
   "outputs": [],
   "source": [
    "# cevap = (1.5 , 1 , 0.5 , 2.5 , 1.5 , 2)\n",
    "# DOGRU"
   ]
  },
  {
   "cell_type": "markdown",
   "id": "eddbfd3a-d45b-4173-b991-b4105a3c5621",
   "metadata": {},
   "source": [
    "# 5"
   ]
  },
  {
   "cell_type": "code",
   "execution_count": 18,
   "id": "929513c5-0f94-4f03-8188-75bd6834e0ca",
   "metadata": {},
   "outputs": [],
   "source": [
    "def myFunc(num):   # dizide belirtilen rakamlari, myFunction fonksiyonuna tabi tutarak, yeni dizi olustur\n",
    "    return num ** 3"
   ]
  },
  {
   "cell_type": "code",
   "execution_count": 19,
   "id": "18f1981a-2744-4b2e-8adb-44274604bcce",
   "metadata": {},
   "outputs": [],
   "source": [
    "myList = [2,3,4,5,6]"
   ]
  },
  {
   "cell_type": "code",
   "execution_count": 55,
   "id": "9972fdc3-95a4-4e31-9337-2b9152733a9c",
   "metadata": {},
   "outputs": [],
   "source": [
    "x = list(map(myFunc,myList))  # birseye atamana gerek yok list zaten gosterir"
   ]
  },
  {
   "cell_type": "code",
   "execution_count": 21,
   "id": "bdda361f-fb41-42e1-964b-78b4f5dfccd9",
   "metadata": {},
   "outputs": [],
   "source": [
    "newList = []\n",
    "newList.append(x)"
   ]
  },
  {
   "cell_type": "code",
   "execution_count": 54,
   "id": "5a1d4e2a-4f58-4f92-9d17-6004e8d8cbfd",
   "metadata": {},
   "outputs": [
    {
     "data": {
      "text/plain": [
       "[[8, 27, 64, 125, 216]]"
      ]
     },
     "execution_count": 54,
     "metadata": {},
     "output_type": "execute_result"
    }
   ],
   "source": [
    "newList\n",
    "# DOGRU"
   ]
  },
  {
   "cell_type": "markdown",
   "id": "4fe92429-6514-4a23-bafc-9ab17f83761c",
   "metadata": {},
   "source": [
    "# 6"
   ]
  },
  {
   "cell_type": "code",
   "execution_count": 23,
   "id": "6ebf61df-dd9b-4c0d-b858-c69ae1a525fb",
   "metadata": {},
   "outputs": [],
   "source": [
    "barkodDizisi = [\"ABC231\",\"SA3123XYZ\",\"XYZA123Q\",\"QRE1231KJ\",\"X112QGL\"]"
   ]
  },
  {
   "cell_type": "code",
   "execution_count": 24,
   "id": "4a0854d3-286c-44cf-95cf-9c0f6c1b9c4a",
   "metadata": {},
   "outputs": [],
   "source": [
    "def nuem(name):\n",
    "    return \"XYZ\" in name"
   ]
  },
  {
   "cell_type": "code",
   "execution_count": 58,
   "id": "af0e4653-d8b2-4e46-bdba-a242037fe993",
   "metadata": {},
   "outputs": [
    {
     "data": {
      "text/plain": [
       "['SA3123XYZ', 'XYZA123Q']"
      ]
     },
     "execution_count": 58,
     "metadata": {},
     "output_type": "execute_result"
    }
   ],
   "source": [
    "list(filter(nuem,barkodDizisi))\n",
    "# DOGRU"
   ]
  },
  {
   "cell_type": "code",
   "execution_count": 57,
   "id": "546b1273-cb43-4a46-888c-a6b01f0b6d7a",
   "metadata": {},
   "outputs": [
    {
     "data": {
      "text/plain": [
       "['SA3123XYZ', 'XYZA123Q']"
      ]
     },
     "execution_count": 57,
     "metadata": {},
     "output_type": "execute_result"
    }
   ],
   "source": [
    "list(filter(lambda string : \"XYZ\" in string,barkodDizisi)) # daha kisa"
   ]
  },
  {
   "cell_type": "markdown",
   "id": "5f6b8bb1-6415-49b3-bf70-48e49e257fb2",
   "metadata": {},
   "source": [
    "# 7"
   ]
  },
  {
   "cell_type": "code",
   "execution_count": 59,
   "id": "7767ee39-d1b3-43e1-925b-4766f14e45c8",
   "metadata": {},
   "outputs": [],
   "source": [
    "# kodu okursaniz, ornakFonksiyon calistirildiginda en altta yazdirilan print nedir?\n",
    "myVar = \"Atil Samancioglu\"\n",
    "\n",
    "def ornekFonksiyon():\n",
    "    myVar = \"Atil\"\n",
    "\n",
    "    def digerFonksiyon():\n",
    "        print(myVar)\n",
    "\n",
    "    digerFonksiyon()"
   ]
  },
  {
   "cell_type": "code",
   "execution_count": 61,
   "id": "2540fc19-bfa8-44fb-9d2f-f0d0b3091a28",
   "metadata": {},
   "outputs": [],
   "source": [
    "#cevap = \"Atil\"\n",
    "# DOGRU"
   ]
  },
  {
   "cell_type": "markdown",
   "id": "21d40c6c-1ee5-4b32-af22-82eb53b14f6d",
   "metadata": {},
   "source": [
    "# 8"
   ]
  },
  {
   "cell_type": "code",
   "execution_count": 33,
   "id": "184a8454-a72b-48b0-9958-1391c261f67f",
   "metadata": {},
   "outputs": [],
   "source": [
    "# Asagida yazdirilan sinifi inceledigimizde kedim.yasiCarp() cittisi ne?\n",
    "\n",
    "class Kedi():\n",
    "\n",
    "    def __init__(self,isim,yas = 5):\n",
    "        self.isim = isim\n",
    "        self.yas = yas\n",
    "\n",
    "    def yasiCarp(self):\n",
    "        return self.yas * 3"
   ]
  },
  {
   "cell_type": "code",
   "execution_count": 34,
   "id": "e8d5c8f0-5b92-40f2-851c-7d56968d9032",
   "metadata": {},
   "outputs": [],
   "source": [
    "kedim = Kedi(\"Tonton\")"
   ]
  },
  {
   "cell_type": "code",
   "execution_count": 35,
   "id": "bc58ea2b-b99e-417c-81a3-1ab87bec7c1b",
   "metadata": {},
   "outputs": [],
   "source": [
    "# kedim.yasiCarp()"
   ]
  },
  {
   "cell_type": "code",
   "execution_count": 62,
   "id": "c7519334-a7e2-4965-b7e3-1e4a4ee5222f",
   "metadata": {},
   "outputs": [],
   "source": [
    "#cevap = 15\n",
    "#DOGRU"
   ]
  },
  {
   "cell_type": "markdown",
   "id": "42bf0248-6d12-488b-abb8-35fdfc959120",
   "metadata": {},
   "source": [
    "# 9 "
   ]
  },
  {
   "cell_type": "code",
   "execution_count": 71,
   "id": "1ab43948-cc18-4245-8c47-8094f37b5399",
   "metadata": {},
   "outputs": [],
   "source": [
    "# kodun cittisi ne olacak\n",
    "\n",
    "class Ogrenci():\n",
    "\n",
    "    def __init__(self,isim,sinavNotu):\n",
    "        self.isim = isim\n",
    "        self.__sinavNotu = sinavNotu\n",
    "\n",
    "    def notuGoster(self):\n",
    "        print(f\"{self.isim} sinav notu: {self.__sinavNotu}\")  # soru sor "
   ]
  },
  {
   "cell_type": "code",
   "execution_count": 72,
   "id": "39fdcf6a-2a23-4c32-af66-1ba4df9662c3",
   "metadata": {},
   "outputs": [],
   "source": [
    "ogrenci = Ogrenci(\"Mehmet\",85)"
   ]
  },
  {
   "cell_type": "code",
   "execution_count": 73,
   "id": "79f35e85-2a7f-4887-9afa-c8e507cde263",
   "metadata": {},
   "outputs": [],
   "source": [
    "ogrenci.__sinavNotu = 75  # soru sor"
   ]
  },
  {
   "cell_type": "code",
   "execution_count": 74,
   "id": "abd78a61-ea35-4ecd-81cf-6974ad5d56ee",
   "metadata": {},
   "outputs": [],
   "source": [
    "# cevap = Mehmet sinav notu: 75\n",
    "# YANLIS\n",
    "# dogru = Mehmet sinav notu: 85"
   ]
  },
  {
   "cell_type": "code",
   "execution_count": 78,
   "id": "65460f06-96c9-4be5-a234-85ea4f3f9e5e",
   "metadata": {},
   "outputs": [
    {
     "name": "stdout",
     "output_type": "stream",
     "text": [
      "Mehmet sinav notu: 85\n"
     ]
    }
   ],
   "source": [
    "ogrenci.notuGoster()"
   ]
  },
  {
   "cell_type": "markdown",
   "id": "e62c571b-26a1-48f1-9572-598ab6153d7f",
   "metadata": {},
   "source": [
    "# 10"
   ]
  },
  {
   "cell_type": "code",
   "execution_count": 64,
   "id": "16316c90-650c-43d3-a6f0-6bfe2e60e910",
   "metadata": {},
   "outputs": [],
   "source": [
    "# from abc import ABC , abstractmethod\n",
    "# DOGRU"
   ]
  },
  {
   "cell_type": "code",
   "execution_count": 66,
   "id": "22072832-3aca-4654-8f47-06057143c7a1",
   "metadata": {},
   "outputs": [],
   "source": [
    "def toplama(a,b): \n",
    "    print(a,b)"
   ]
  },
  {
   "cell_type": "code",
   "execution_count": 67,
   "id": "7bba5de4-e575-42bb-b4e7-8c41714e20cf",
   "metadata": {},
   "outputs": [
    {
     "name": "stdout",
     "output_type": "stream",
     "text": [
      "3 4\n"
     ]
    }
   ],
   "source": [
    "x = toplama(3,4)"
   ]
  },
  {
   "cell_type": "code",
   "execution_count": null,
   "id": "749b4f77-193c-48f4-9890-ce20af365609",
   "metadata": {},
   "outputs": [],
   "source": []
  }
 ],
 "metadata": {
  "kernelspec": {
   "display_name": "Python [conda env:anaconda3]",
   "language": "python",
   "name": "conda-env-anaconda3-py"
  },
  "language_info": {
   "codemirror_mode": {
    "name": "ipython",
    "version": 3
   },
   "file_extension": ".py",
   "mimetype": "text/x-python",
   "name": "python",
   "nbconvert_exporter": "python",
   "pygments_lexer": "ipython3",
   "version": "3.13.5"
  }
 },
 "nbformat": 4,
 "nbformat_minor": 5
}
