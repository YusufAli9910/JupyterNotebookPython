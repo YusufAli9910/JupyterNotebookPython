{
 "cells": [
  {
   "cell_type": "code",
   "execution_count": 18,
   "id": "be3d1edd-0297-493c-83a8-4d05d507cbf2",
   "metadata": {},
   "outputs": [],
   "source": [
    "name : str = \"ali\"  # eger tanimalrsan baska bir degere donusmez\n",
    "age : int = 30\n",
    "is_student : bool = False"
   ]
  },
  {
   "cell_type": "code",
   "execution_count": 14,
   "id": "760574da-2ee5-4a8c-99a5-98b5dbe5de33",
   "metadata": {},
   "outputs": [
    {
     "data": {
      "text/plain": [
       "str"
      ]
     },
     "execution_count": 14,
     "metadata": {},
     "output_type": "execute_result"
    }
   ],
   "source": [
    "type(name)"
   ]
  },
  {
   "cell_type": "code",
   "execution_count": 15,
   "id": "8c82ef1e-5824-4f17-bcaf-104cc6c46be1",
   "metadata": {},
   "outputs": [
    {
     "data": {
      "text/plain": [
       "'ali'"
      ]
     },
     "execution_count": 15,
     "metadata": {},
     "output_type": "execute_result"
    }
   ],
   "source": [
    "name"
   ]
  },
  {
   "cell_type": "code",
   "execution_count": 16,
   "id": "4d4aa810-d170-4d35-853f-d0a132587fb7",
   "metadata": {},
   "outputs": [],
   "source": [
    "# cok onemli degil, okunabilirligi iyi olsun diye"
   ]
  },
  {
   "cell_type": "code",
   "execution_count": 19,
   "id": "6c3021d9-c69c-4561-a7b9-79a26b649989",
   "metadata": {},
   "outputs": [],
   "source": [
    "def add_numbers(a : int, b : int) -> int:\n",
    "    return a + b"
   ]
  },
  {
   "cell_type": "code",
   "execution_count": 20,
   "id": "eb0bfb9d-06e5-44d2-a855-a877f585974a",
   "metadata": {},
   "outputs": [
    {
     "data": {
      "text/plain": [
       "12"
      ]
     },
     "execution_count": 20,
     "metadata": {},
     "output_type": "execute_result"
    }
   ],
   "source": [
    "add_numbers(8,4)"
   ]
  },
  {
   "cell_type": "code",
   "execution_count": 25,
   "id": "0a0647f0-d511-4bb7-9f19-ef2996dc0244",
   "metadata": {},
   "outputs": [],
   "source": [
    "def process_value(value: int | str) -> str: # int ya da str demek icin araya \"|\" koymamiz lazim\n",
    "    if isinstance(value, int): # isinstance, bu yazilan sinifta olup olmadigini kontrol etmek icin yazilir\n",
    "        return f\"processed integer: {value}\"\n",
    "    else:\n",
    "        return f\"processed string: {value}\""
   ]
  },
  {
   "cell_type": "code",
   "execution_count": 23,
   "id": "9c18c891-a67e-471a-a0d9-d92f5067d394",
   "metadata": {},
   "outputs": [
    {
     "data": {
      "text/plain": [
       "'processed integer: 100'"
      ]
     },
     "execution_count": 23,
     "metadata": {},
     "output_type": "execute_result"
    }
   ],
   "source": [
    "process_value(100)"
   ]
  },
  {
   "cell_type": "code",
   "execution_count": 24,
   "id": "35c86a4a-8f44-49fe-a3fe-0f5a8366a217",
   "metadata": {},
   "outputs": [
    {
     "data": {
      "text/plain": [
       "'processed string: ali'"
      ]
     },
     "execution_count": 24,
     "metadata": {},
     "output_type": "execute_result"
    }
   ],
   "source": [
    "process_value(\"ali\")"
   ]
  },
  {
   "cell_type": "code",
   "execution_count": 30,
   "id": "b1634b2b-fbd5-4a41-ab05-cc9bc0e959aa",
   "metadata": {},
   "outputs": [
    {
     "data": {
      "text/plain": [
       "'processed string: [10, 20, 30]'"
      ]
     },
     "execution_count": 30,
     "metadata": {},
     "output_type": "execute_result"
    }
   ],
   "source": [
    "process_value([10,20,30])"
   ]
  },
  {
   "cell_type": "code",
   "execution_count": 31,
   "id": "43dd1883-718d-46f0-aca9-869e30e6ff85",
   "metadata": {},
   "outputs": [],
   "source": [
    "# python 3.9 ustu icin"
   ]
  },
  {
   "cell_type": "code",
   "execution_count": 32,
   "id": "129dbbd0-532f-46d2-8ecf-3c6d90888676",
   "metadata": {},
   "outputs": [],
   "source": [
    "from typing import List\n",
    "\n",
    "def sum_list(numbers: list[int]) -> int:\n",
    "    return sum(numbers)"
   ]
  },
  {
   "cell_type": "code",
   "execution_count": 33,
   "id": "40a78b74-f64d-44e6-9293-fecd9e4a8acd",
   "metadata": {},
   "outputs": [
    {
     "data": {
      "text/plain": [
       "100"
      ]
     },
     "execution_count": 33,
     "metadata": {},
     "output_type": "execute_result"
    }
   ],
   "source": [
    "numberrr = [10,20,70]\n",
    "sum(numberrr)"
   ]
  },
  {
   "cell_type": "code",
   "execution_count": null,
   "id": "36cf103a-46e0-427e-937f-ac778943cbd7",
   "metadata": {},
   "outputs": [],
   "source": []
  }
 ],
 "metadata": {
  "kernelspec": {
   "display_name": "Python [conda env:anaconda3]",
   "language": "python",
   "name": "conda-env-anaconda3-py"
  },
  "language_info": {
   "codemirror_mode": {
    "name": "ipython",
    "version": 3
   },
   "file_extension": ".py",
   "mimetype": "text/x-python",
   "name": "python",
   "nbconvert_exporter": "python",
   "pygments_lexer": "ipython3",
   "version": "3.13.5"
  }
 },
 "nbformat": 4,
 "nbformat_minor": 5
}
