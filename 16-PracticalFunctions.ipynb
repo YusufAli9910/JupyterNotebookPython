{
 "cells": [
  {
   "cell_type": "code",
   "execution_count": 1,
   "id": "eaea5c33-efce-47b9-933f-bbfd920b93d6",
   "metadata": {},
   "outputs": [],
   "source": [
    "def dividenumber(name):\n",
    "    return name / 2"
   ]
  },
  {
   "cell_type": "code",
   "execution_count": 2,
   "id": "34681d66-797a-4ca0-9666-6689523c70bb",
   "metadata": {},
   "outputs": [],
   "source": [
    "myList = [3,5,7,10,20,30]"
   ]
  },
  {
   "cell_type": "code",
   "execution_count": 5,
   "id": "7ca511c9-1d07-44df-905c-08a8210b134c",
   "metadata": {},
   "outputs": [
    {
     "name": "stdout",
     "output_type": "stream",
     "text": [
      "[1.5, 2.5, 3.5, 5.0, 10.0, 15.0]\n"
     ]
    }
   ],
   "source": [
    "myResultList = []\n",
    "for num in myList:\n",
    "    myResultList.append(dividenumber(num))\n",
    "print(myResultList)"
   ]
  },
  {
   "cell_type": "markdown",
   "id": "d88b031c-1c10-4053-91f4-f1a04d3f0f13",
   "metadata": {},
   "source": [
    "# MAP"
   ]
  },
  {
   "cell_type": "code",
   "execution_count": 6,
   "id": "f9cb06c8-8893-4163-855c-5d3fc12d5ae2",
   "metadata": {},
   "outputs": [],
   "source": [
    "# map ---> sinif"
   ]
  },
  {
   "cell_type": "code",
   "execution_count": 7,
   "id": "41ef7c8d-18b5-4700-917c-397b0c6a5fbf",
   "metadata": {},
   "outputs": [
    {
     "name": "stdout",
     "output_type": "stream",
     "text": [
      "Help on class map in module builtins:\n",
      "\n",
      "class map(object)\n",
      " |  map(function, iterable, /, *iterables)\n",
      " |\n",
      " |  Make an iterator that computes the function using arguments from\n",
      " |  each of the iterables.  Stops when the shortest iterable is exhausted.\n",
      " |\n",
      " |  Methods defined here:\n",
      " |\n",
      " |  __getattribute__(self, name, /)\n",
      " |      Return getattr(self, name).\n",
      " |\n",
      " |  __iter__(self, /)\n",
      " |      Implement iter(self).\n",
      " |\n",
      " |  __next__(self, /)\n",
      " |      Implement next(self).\n",
      " |\n",
      " |  __reduce__(self, /)\n",
      " |      Return state information for pickling.\n",
      " |\n",
      " |  ----------------------------------------------------------------------\n",
      " |  Static methods defined here:\n",
      " |\n",
      " |  __new__(*args, **kwargs)\n",
      " |      Create and return a new object.  See help(type) for accurate signature.\n",
      "\n"
     ]
    }
   ],
   "source": [
    "help(map)"
   ]
  },
  {
   "cell_type": "code",
   "execution_count": 8,
   "id": "4fa5f869-b3fe-4fce-a51b-f560297cdccc",
   "metadata": {},
   "outputs": [
    {
     "data": {
      "text/plain": [
       "[1.5, 2.5, 3.5, 5.0, 10.0, 15.0]"
      ]
     },
     "execution_count": 8,
     "metadata": {},
     "output_type": "execute_result"
    }
   ],
   "source": [
    "list(map(dividenumber,myList))"
   ]
  },
  {
   "cell_type": "code",
   "execution_count": 24,
   "id": "c3a6009b-fd59-4eb1-a81d-886f89c1490d",
   "metadata": {},
   "outputs": [],
   "source": [
    "def controlString(string):\n",
    "    return \"Ali\" in string"
   ]
  },
  {
   "cell_type": "code",
   "execution_count": 25,
   "id": "eaa859ca-4006-4439-be9f-18b90f9da30d",
   "metadata": {},
   "outputs": [
    {
     "data": {
      "text/plain": [
       "False"
      ]
     },
     "execution_count": 25,
     "metadata": {},
     "output_type": "execute_result"
    }
   ],
   "source": [
    "controlString(\"ali\")"
   ]
  },
  {
   "cell_type": "code",
   "execution_count": 28,
   "id": "fa76f37c-048f-432e-b765-b17856189047",
   "metadata": {},
   "outputs": [],
   "source": [
    "myStr = [\"Ali\",\"Ali okcu\",\"yusuf\"]"
   ]
  },
  {
   "cell_type": "code",
   "execution_count": 29,
   "id": "ebb48c23-fa40-4a7d-a61b-9ce38e3282f2",
   "metadata": {},
   "outputs": [
    {
     "data": {
      "text/plain": [
       "[True, True, False]"
      ]
     },
     "execution_count": 29,
     "metadata": {},
     "output_type": "execute_result"
    }
   ],
   "source": [
    "list(map(controlString,myStr))"
   ]
  },
  {
   "cell_type": "markdown",
   "id": "4bfab029-a2eb-43df-ba2b-ea294b1c26ec",
   "metadata": {},
   "source": [
    "# FILTER"
   ]
  },
  {
   "cell_type": "code",
   "execution_count": 31,
   "id": "6f088138-baf6-4393-9edd-3e7912df2fde",
   "metadata": {},
   "outputs": [],
   "source": [
    "# filtreliyor ve yazilan isim cikiyor sadece"
   ]
  },
  {
   "cell_type": "code",
   "execution_count": 32,
   "id": "72ed606a-fd21-42a1-af48-6059dd43cb05",
   "metadata": {},
   "outputs": [
    {
     "data": {
      "text/plain": [
       "['Ali', 'Ali okcu']"
      ]
     },
     "execution_count": 32,
     "metadata": {},
     "output_type": "execute_result"
    }
   ],
   "source": [
    "list(filter(controlString,myStr))"
   ]
  },
  {
   "cell_type": "code",
   "execution_count": null,
   "id": "c881859a-ce9b-41a4-88d7-a7512af67622",
   "metadata": {},
   "outputs": [],
   "source": []
  },
  {
   "cell_type": "markdown",
   "id": "af8c6227-a154-4b3a-baff-659c05c4ee60",
   "metadata": {},
   "source": [
    "# LAMBDA"
   ]
  },
  {
   "cell_type": "code",
   "execution_count": 39,
   "id": "3f38d4ab-9a74-4fa7-bb0c-f7c5b4d85bad",
   "metadata": {},
   "outputs": [],
   "source": [
    "mlam = lambda num : num * 4        # anonim fonksiyon"
   ]
  },
  {
   "cell_type": "code",
   "execution_count": 34,
   "id": "3cd541df-37aa-41b9-b325-79bfc18fa9f1",
   "metadata": {},
   "outputs": [
    {
     "data": {
      "text/plain": [
       "function"
      ]
     },
     "execution_count": 34,
     "metadata": {},
     "output_type": "execute_result"
    }
   ],
   "source": [
    "type(mlam)"
   ]
  },
  {
   "cell_type": "code",
   "execution_count": 35,
   "id": "25eb6e83-5f9b-4e80-90f7-c09f96d336ef",
   "metadata": {},
   "outputs": [
    {
     "data": {
      "text/plain": [
       "80"
      ]
     },
     "execution_count": 35,
     "metadata": {},
     "output_type": "execute_result"
    }
   ],
   "source": [
    "mlam(20)"
   ]
  },
  {
   "cell_type": "code",
   "execution_count": 36,
   "id": "e81003e7-f1a3-4599-9d77-076ab4ddf29a",
   "metadata": {},
   "outputs": [],
   "source": [
    "xx = mlam(50)"
   ]
  },
  {
   "cell_type": "code",
   "execution_count": 38,
   "id": "89ea0ba0-185c-4654-af78-00bf8741d779",
   "metadata": {},
   "outputs": [
    {
     "data": {
      "text/plain": [
       "200"
      ]
     },
     "execution_count": 38,
     "metadata": {},
     "output_type": "execute_result"
    }
   ],
   "source": [
    "xx    # return ediyor"
   ]
  },
  {
   "cell_type": "code",
   "execution_count": 40,
   "id": "d5941124-f7dc-4d59-8dc7-5cf6032063f3",
   "metadata": {},
   "outputs": [],
   "source": [
    "numList = [10,20,30,40,50]"
   ]
  },
  {
   "cell_type": "code",
   "execution_count": 44,
   "id": "f11087f1-329f-425d-b722-c1bb8f395a42",
   "metadata": {},
   "outputs": [
    {
     "data": {
      "text/plain": [
       "[5.0, 10.0, 15.0, 20.0, 25.0]"
      ]
     },
     "execution_count": 44,
     "metadata": {},
     "output_type": "execute_result"
    }
   ],
   "source": [
    "list(map(lambda numm : numm / 2,numList))"
   ]
  },
  {
   "cell_type": "code",
   "execution_count": 45,
   "id": "3f8b8b34-2468-47c6-ae33-aeccb13e12bb",
   "metadata": {},
   "outputs": [],
   "source": [
    "xs = list(map(lambda numm : numm / 2,numList))"
   ]
  },
  {
   "cell_type": "code",
   "execution_count": 46,
   "id": "c14adf95-1f40-4e67-8500-5f4901a572e3",
   "metadata": {},
   "outputs": [
    {
     "data": {
      "text/plain": [
       "[5.0, 10.0, 15.0, 20.0, 25.0]"
      ]
     },
     "execution_count": 46,
     "metadata": {},
     "output_type": "execute_result"
    }
   ],
   "source": [
    "xs"
   ]
  },
  {
   "cell_type": "code",
   "execution_count": null,
   "id": "b42b7bc2-371d-41d3-90ec-2cec73b9fb6a",
   "metadata": {},
   "outputs": [],
   "source": []
  }
 ],
 "metadata": {
  "kernelspec": {
   "display_name": "Python [conda env:anaconda3]",
   "language": "python",
   "name": "conda-env-anaconda3-py"
  },
  "language_info": {
   "codemirror_mode": {
    "name": "ipython",
    "version": 3
   },
   "file_extension": ".py",
   "mimetype": "text/x-python",
   "name": "python",
   "nbconvert_exporter": "python",
   "pygments_lexer": "ipython3",
   "version": "3.13.5"
  }
 },
 "nbformat": 4,
 "nbformat_minor": 5
}
